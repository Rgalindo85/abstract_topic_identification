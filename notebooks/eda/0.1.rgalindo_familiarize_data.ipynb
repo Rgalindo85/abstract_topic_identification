{
 "cells": [
  {
   "cell_type": "markdown",
   "metadata": {},
   "source": [
    "# Initial familiarization with some files with data"
   ]
  },
  {
   "cell_type": "code",
   "execution_count": 1,
   "metadata": {},
   "outputs": [
    {
     "data": {
      "text/plain": [
       "13300"
      ]
     },
     "execution_count": 1,
     "metadata": {},
     "output_type": "execute_result"
    }
   ],
   "source": [
    "import glob\n",
    "import os\n",
    "\n",
    "from pathlib import Path\n",
    "import xml.etree.ElementTree as ET\n",
    "# get list of files in data/raw\n",
    "\n",
    "\n",
    "current_dir = os.path.dirname(os.path.realpath('.'))\n",
    "project_dir = Path(current_dir).parents[0]\n",
    "data_dir = os.path.join(project_dir, 'data')\n",
    "\n",
    "list_of_files = glob.glob(os.path.join(data_dir, 'raw', '*.xml'))\n",
    "len(list_of_files)"
   ]
  },
  {
   "cell_type": "code",
   "execution_count": 2,
   "metadata": {},
   "outputs": [],
   "source": [
    "def get_abstract(filename):\n",
    "    xml_files = open(os.path.join(data_dir, 'raw', filename), 'r').read()\n",
    "\n",
    "    root = ET.fromstring(xml_files)\n",
    "\n",
    " \n",
    "    # Iterate through elements\n",
    "    abstract = ''\n",
    "    for child in root:\n",
    "        # print(f'Tag: {child.tag}, Attributes: {child.attrib}')\n",
    "        for subchild in child:\n",
    "            if 'abstract' in str(subchild.tag).lower():\n",
    "                abstract = subchild.text\n",
    "                print(f'  Sub-tag: {subchild.tag}, Text: {subchild.text[:]}')\n",
    "                #print(f'  Sub-tag: {subchild.tag}, Text: {subchild.text[:]}')\n",
    "    return abstract\n"
   ]
  },
  {
   "cell_type": "code",
   "execution_count": 3,
   "metadata": {},
   "outputs": [
    {
     "name": "stdout",
     "output_type": "stream",
     "text": [
      "  Sub-tag: AbstractNarration, Text: The NSF Convergence Accelerator supports team-based, multidisciplinary efforts that address challenges of national importance and show potential for deliverables in the near future. The objective of this workshop is to explore topics for potential NSF Convergence Accelerator tracks for FY 2021.&lt;br/&gt;&lt;br/&gt;The Future of Privacy Forum (FPF) will convene a workshop on “The Responsible Use of Data During Times of Crisis”, for pandemics as well as other crisis situations. The workshop will bring together US government leaders, international data protection authorities, corporate leaders, technologists, academic researchers and public health experts to examine benefits, risks, and strategies for the collection and protection of data in support of public health initiatives during crises, including for COVID-19. &lt;br/&gt;&lt;br/&gt;Ensuring that US and global stakeholders leading emergency efforts have the data-based knowledge, tools and governance structures to navigate pandemic challenges is one of the defining public policy issues of our time. This workshop will explore a proposed Convergence Accelerator track to accelerate collaboration among government, industry and academic researchers to make health data effective and usable and achieve positive lasting impact on future preparedness for pandemics and other crisis situations.&lt;br/&gt;&lt;br/&gt;The objectives of the project are three-fold: 1) to bring expert knowledge to a diverse audience of policymakers and industry leaders for timely consideration, collaboration and application as appropriate, 2) to address a number of priority research questions across a range of top issues and technologies, and 3) identify challenges, information gaps, and prospective areas for research and development. &lt;br/&gt;&lt;br/&gt;The C-Accel workshop will proceed as a “virtual conference” designed to engage participants in immersive discussion and consideration of topics/findings from top COVID and data-related issues that emerged from the Privacy &amp; Pandemics educational series organized by FPF. Three discussion pillars will be used as organizing themes: AI-Ethics-Health. The project will produce a coordinated global “roapmap” (white paper) to point the way forward in research directions, practice improvements, and development of privacy-preserving products and services to inform COVID-19 and crisis situation policies and in preparation for future pandemics and other crises.&lt;br/&gt;&lt;br/&gt;This award reflects NSF's statutory mission and has been deemed worthy of support through evaluation using the Foundation's intellectual merit and broader impacts review criteria.\n",
      "  Sub-tag: AbstractNarration, Text: The broader impact/commercial potential of this Small Business Innovation Research (SBIR) Phase I project is to accelerate the adoption of silicon carbide power semiconductors for energy efficient power electronics. The technology developed in this Phase I proposal will build an intelligent, low-cost, high-performance, silicon carbide power switch.  The proposed technology can potentially increase energy efficiency by up to 10% and reduce power electronic energy dissipation by 5X for a wide range of applications, including industrial power supplies, motor drives, solar inverters, battery chargers, adapters for consumer electronics and in electric vehicles. In addition, the proposed technology is also an enabler for efficient power delivery in future applications such as electric aircraft, space flight and quantum computing.<br/><br/>This Small Business Innovation Research (SBIR) Phase I project will demonstrate a novel four-terminal silicon carbide field-effect transistor that, when combined with a silicon metal-oxide-semiconductor field-effect transistor in a novel topology, will create an innovative wide-bandgap switch. The proposed device innovations will allow 50% die-size reduction compared to existing silicon carbide solutions, with similar or better switching losses, and with the potential to achieve cost parity with silicon technology in high-volume production. Moreover, the proposed switch has excellent gate reliability without the need for tight controls on the gate or drain overshoot. By combining the power of advanced silicon technology with silicon carbide the proposed research presents an opportunity to enable a truly intelligent power-switching platform with high power density and high efficiency.<br/><br/>This award reflects NSF's statutory mission and has been deemed worthy of support through evaluation using the Foundation's intellectual merit and broader impacts review criteria.\n",
      "  Sub-tag: AbstractNarration, Text: This project will use available data sets for COVID-19 in other countries, and in NYC, Virginia, and Maryland to build compartmental and metapopulation models to quantify the events that transpired there, and what interventions at various stages may have achieved. This will permit gaining control of future situations earlier.  The epidemic models developed during this project will lead to innovations in computational epidemiology and enable approaches that mitigate the negative effects of COVID-19 on public health, society, and the economy.<br/><br/>Based on publicly available data sets for COVID-19 in other countries, and in NYC, Virginia, and Maryland, the researchers propose to build compartmental and metapopulation models to quantify the events that transpired there, understand the impacts of interventions at various stages, and develop optimal strategies for containing the pandemic. The basic model will subdivide the population into classes according to age, gender, and infectious status; examine the impact of the quarantine that was imposed; and then consider additional strategies that could have been imposed, in particular to reduce contact rates.  The project will apply and extend the approach of \"transfer learning\" to this problem.  The research team is well positioned to conduct this research; they have a long history of experience tracking and modeling infectious disease spread (e.g., Ebola, SARS) and are already participating in the CDC forecasting challenge for COVID-19.<br/><br/>This award reflects NSF's statutory mission and has been deemed worthy of support through evaluation using the Foundation's intellectual merit and broader impacts review criteria.\n"
     ]
    },
    {
     "data": {
      "text/plain": [
       "{'2035358': \"The NSF Convergence Accelerator supports team-based, multidisciplinary efforts that address challenges of national importance and show potential for deliverables in the near future. The objective of this workshop is to explore topics for potential NSF Convergence Accelerator tracks for FY 2021.&lt;br/&gt;&lt;br/&gt;The Future of Privacy Forum (FPF) will convene a workshop on “The Responsible Use of Data During Times of Crisis”, for pandemics as well as other crisis situations. The workshop will bring together US government leaders, international data protection authorities, corporate leaders, technologists, academic researchers and public health experts to examine benefits, risks, and strategies for the collection and protection of data in support of public health initiatives during crises, including for COVID-19. &lt;br/&gt;&lt;br/&gt;Ensuring that US and global stakeholders leading emergency efforts have the data-based knowledge, tools and governance structures to navigate pandemic challenges is one of the defining public policy issues of our time. This workshop will explore a proposed Convergence Accelerator track to accelerate collaboration among government, industry and academic researchers to make health data effective and usable and achieve positive lasting impact on future preparedness for pandemics and other crisis situations.&lt;br/&gt;&lt;br/&gt;The objectives of the project are three-fold: 1) to bring expert knowledge to a diverse audience of policymakers and industry leaders for timely consideration, collaboration and application as appropriate, 2) to address a number of priority research questions across a range of top issues and technologies, and 3) identify challenges, information gaps, and prospective areas for research and development. &lt;br/&gt;&lt;br/&gt;The C-Accel workshop will proceed as a “virtual conference” designed to engage participants in immersive discussion and consideration of topics/findings from top COVID and data-related issues that emerged from the Privacy &amp; Pandemics educational series organized by FPF. Three discussion pillars will be used as organizing themes: AI-Ethics-Health. The project will produce a coordinated global “roapmap” (white paper) to point the way forward in research directions, practice improvements, and development of privacy-preserving products and services to inform COVID-19 and crisis situation policies and in preparation for future pandemics and other crises.&lt;br/&gt;&lt;br/&gt;This award reflects NSF's statutory mission and has been deemed worthy of support through evaluation using the Foundation's intellectual merit and broader impacts review criteria.\",\n",
       " '2015088': \"The broader impact/commercial potential of this Small Business Innovation Research (SBIR) Phase I project is to accelerate the adoption of silicon carbide power semiconductors for energy efficient power electronics. The technology developed in this Phase I proposal will build an intelligent, low-cost, high-performance, silicon carbide power switch.  The proposed technology can potentially increase energy efficiency by up to 10% and reduce power electronic energy dissipation by 5X for a wide range of applications, including industrial power supplies, motor drives, solar inverters, battery chargers, adapters for consumer electronics and in electric vehicles. In addition, the proposed technology is also an enabler for efficient power delivery in future applications such as electric aircraft, space flight and quantum computing.<br/><br/>This Small Business Innovation Research (SBIR) Phase I project will demonstrate a novel four-terminal silicon carbide field-effect transistor that, when combined with a silicon metal-oxide-semiconductor field-effect transistor in a novel topology, will create an innovative wide-bandgap switch. The proposed device innovations will allow 50% die-size reduction compared to existing silicon carbide solutions, with similar or better switching losses, and with the potential to achieve cost parity with silicon technology in high-volume production. Moreover, the proposed switch has excellent gate reliability without the need for tight controls on the gate or drain overshoot. By combining the power of advanced silicon technology with silicon carbide the proposed research presents an opportunity to enable a truly intelligent power-switching platform with high power density and high efficiency.<br/><br/>This award reflects NSF's statutory mission and has been deemed worthy of support through evaluation using the Foundation's intellectual merit and broader impacts review criteria.\",\n",
       " '2027984': 'This project will use available data sets for COVID-19 in other countries, and in NYC, Virginia, and Maryland to build compartmental and metapopulation models to quantify the events that transpired there, and what interventions at various stages may have achieved. This will permit gaining control of future situations earlier.  The epidemic models developed during this project will lead to innovations in computational epidemiology and enable approaches that mitigate the negative effects of COVID-19 on public health, society, and the economy.<br/><br/>Based on publicly available data sets for COVID-19 in other countries, and in NYC, Virginia, and Maryland, the researchers propose to build compartmental and metapopulation models to quantify the events that transpired there, understand the impacts of interventions at various stages, and develop optimal strategies for containing the pandemic. The basic model will subdivide the population into classes according to age, gender, and infectious status; examine the impact of the quarantine that was imposed; and then consider additional strategies that could have been imposed, in particular to reduce contact rates.  The project will apply and extend the approach of \"transfer learning\" to this problem.  The research team is well positioned to conduct this research; they have a long history of experience tracking and modeling infectious disease spread (e.g., Ebola, SARS) and are already participating in the CDC forecasting challenge for COVID-19.<br/><br/>This award reflects NSF\\'s statutory mission and has been deemed worthy of support through evaluation using the Foundation\\'s intellectual merit and broader impacts review criteria.'}"
      ]
     },
     "execution_count": 3,
     "metadata": {},
     "output_type": "execute_result"
    }
   ],
   "source": [
    "dict_abstracts = {}\n",
    "for f in list_of_files[:3]:\n",
    "    try:\n",
    "        abstract = get_abstract(f)\n",
    "        paper = f.split('/')[-1].split('.')[0]\n",
    "\n",
    "        dict_abstracts[paper] = abstract\n",
    "    except Exception as e:\n",
    "        print(f'Error with {f}')\n",
    "        print(e)\n",
    "        continue\n",
    "\n",
    "dict_abstracts"
   ]
  },
  {
   "cell_type": "code",
   "execution_count": 7,
   "metadata": {},
   "outputs": [
    {
     "name": "stderr",
     "output_type": "stream",
     "text": [
      "[nltk_data] Downloading package punkt to\n",
      "[nltk_data]     /Users/rogergalindo/nltk_data...\n",
      "[nltk_data]   Package punkt is already up-to-date!\n",
      "[nltk_data] Downloading package stopwords to\n",
      "[nltk_data]     /Users/rogergalindo/nltk_data...\n",
      "[nltk_data]   Package stopwords is already up-to-date!\n",
      "[nltk_data] Downloading package wordnet to\n",
      "[nltk_data]     /Users/rogergalindo/nltk_data...\n",
      "[nltk_data]   Package wordnet is already up-to-date!\n"
     ]
    }
   ],
   "source": [
    "import nltk\n",
    "from nltk.corpus import stopwords\n",
    "from nltk.tokenize import word_tokenize\n",
    "from nltk.stem import WordNetLemmatizer\n",
    "import re\n",
    "\n",
    "nltk.download('punkt')\n",
    "nltk.download('stopwords')\n",
    "nltk.download('wordnet')\n",
    "\n",
    "# include into stopwords characteres that are typically found in xml files\n",
    "stopwords = set(stopwords.words('english') + ['.', ',', '\"', \"'\", '?', '!', ':', ';', '(', ')', '[', ']', '{', '}'] + ['lt', 'br', 'gt'])\n",
    "\n",
    "\n",
    "def preprocess_text(text):\n",
    "    # Remove non-alphabetic characters and tokenize\n",
    "    tokens = word_tokenize(re.sub(r'[^a-zA-Z]', ' ', text.lower()))\n",
    "    # Remove stopwords and lemmatize\n",
    "    lemmatizer = WordNetLemmatizer()\n",
    "    processed = [lemmatizer.lemmatize(word) for word in tokens if word not in stopwords]\n",
    "    return ' '.join(processed)\n"
   ]
  },
  {
   "cell_type": "code",
   "execution_count": 8,
   "metadata": {},
   "outputs": [
    {
     "data": {
      "text/plain": [
       "{'2035358': 'nsf convergence accelerator support team based multidisciplinary effort address challenge national importance show potential deliverable near future objective workshop explore topic potential nsf convergence accelerator track fy future privacy forum fpf convene workshop responsible use data time crisis pandemic well crisis situation workshop bring together u government leader international data protection authority corporate leader technologist academic researcher public health expert examine benefit risk strategy collection protection data support public health initiative crisis including covid ensuring u global stakeholder leading emergency effort data based knowledge tool governance structure navigate pandemic challenge one defining public policy issue time workshop explore proposed convergence accelerator track accelerate collaboration among government industry academic researcher make health data effective usable achieve positive lasting impact future preparedness pandemic crisis situation objective project three fold bring expert knowledge diverse audience policymakers industry leader timely consideration collaboration application appropriate address number priority research question across range top issue technology identify challenge information gap prospective area research development c accel workshop proceed virtual conference designed engage participant immersive discussion consideration topic finding top covid data related issue emerged privacy amp pandemic educational series organized fpf three discussion pillar used organizing theme ai ethic health project produce coordinated global roapmap white paper point way forward research direction practice improvement development privacy preserving product service inform covid crisis situation policy preparation future pandemic crisis award reflects nsf statutory mission deemed worthy support evaluation using foundation intellectual merit broader impact review criterion',\n",
       " '2015088': 'broader impact commercial potential small business innovation research sbir phase project accelerate adoption silicon carbide power semiconductor energy efficient power electronics technology developed phase proposal build intelligent low cost high performance silicon carbide power switch proposed technology potentially increase energy efficiency reduce power electronic energy dissipation x wide range application including industrial power supply motor drive solar inverter battery charger adapter consumer electronics electric vehicle addition proposed technology also enabler efficient power delivery future application electric aircraft space flight quantum computing small business innovation research sbir phase project demonstrate novel four terminal silicon carbide field effect transistor combined silicon metal oxide semiconductor field effect transistor novel topology create innovative wide bandgap switch proposed device innovation allow die size reduction compared existing silicon carbide solution similar better switching loss potential achieve cost parity silicon technology high volume production moreover proposed switch excellent gate reliability without need tight control gate drain overshoot combining power advanced silicon technology silicon carbide proposed research present opportunity enable truly intelligent power switching platform high power density high efficiency award reflects nsf statutory mission deemed worthy support evaluation using foundation intellectual merit broader impact review criterion',\n",
       " '2027984': 'project use available data set covid country nyc virginia maryland build compartmental metapopulation model quantify event transpired intervention various stage may achieved permit gaining control future situation earlier epidemic model developed project lead innovation computational epidemiology enable approach mitigate negative effect covid public health society economy based publicly available data set covid country nyc virginia maryland researcher propose build compartmental metapopulation model quantify event transpired understand impact intervention various stage develop optimal strategy containing pandemic basic model subdivide population class according age gender infectious status examine impact quarantine imposed consider additional strategy could imposed particular reduce contact rate project apply extend approach transfer learning problem research team well positioned conduct research long history experience tracking modeling infectious disease spread e g ebola sars already participating cdc forecasting challenge covid award reflects nsf statutory mission deemed worthy support evaluation using foundation intellectual merit broader impact review criterion'}"
      ]
     },
     "execution_count": 8,
     "metadata": {},
     "output_type": "execute_result"
    }
   ],
   "source": [
    "processed_abstracts = {paper: preprocess_text(abstract) for paper, abstract in dict_abstracts.items()}\n",
    "processed_abstracts"
   ]
  },
  {
   "cell_type": "code",
   "execution_count": 12,
   "metadata": {},
   "outputs": [
    {
     "ename": "ModuleNotFoundError",
     "evalue": "No module named 'sklearn'",
     "output_type": "error",
     "traceback": [
      "\u001b[0;31m---------------------------------------------------------------------------\u001b[0m",
      "\u001b[0;31mModuleNotFoundError\u001b[0m                       Traceback (most recent call last)",
      "Cell \u001b[0;32mIn[12], line 1\u001b[0m\n\u001b[0;32m----> 1\u001b[0m \u001b[38;5;28;01mfrom\u001b[39;00m \u001b[38;5;21;01msklearn\u001b[39;00m\u001b[38;5;21;01m.\u001b[39;00m\u001b[38;5;21;01mfeature_extraction\u001b[39;00m\u001b[38;5;21;01m.\u001b[39;00m\u001b[38;5;21;01mtext\u001b[39;00m \u001b[38;5;28;01mimport\u001b[39;00m TfidfVectorizer\n\u001b[1;32m      3\u001b[0m vectorizer \u001b[38;5;241m=\u001b[39m TfidfVectorizer(max_df\u001b[38;5;241m=\u001b[39m\u001b[38;5;241m0.95\u001b[39m, min_df\u001b[38;5;241m=\u001b[39m\u001b[38;5;241m2\u001b[39m, stop_words\u001b[38;5;241m=\u001b[39m\u001b[38;5;124m'\u001b[39m\u001b[38;5;124menglish\u001b[39m\u001b[38;5;124m'\u001b[39m)\n\u001b[1;32m      4\u001b[0m tfidf_matrix \u001b[38;5;241m=\u001b[39m vectorizer\u001b[38;5;241m.\u001b[39mfit_transform(processed_abstracts\u001b[38;5;241m.\u001b[39mvalues())\n",
      "\u001b[0;31mModuleNotFoundError\u001b[0m: No module named 'sklearn'"
     ]
    }
   ],
   "source": [
    "from sklearn.feature_extraction.text import TfidfVectorizer\n",
    "\n",
    "vectorizer = TfidfVectorizer(max_df=0.95, min_df=2, stop_words='english')\n",
    "tfidf_matrix = vectorizer.fit_transform(processed_abstracts.values())"
   ]
  },
  {
   "cell_type": "code",
   "execution_count": null,
   "metadata": {},
   "outputs": [],
   "source": []
  }
 ],
 "metadata": {
  "kernelspec": {
   "display_name": "Python 3",
   "language": "python",
   "name": "python3"
  },
  "language_info": {
   "codemirror_mode": {
    "name": "ipython",
    "version": 3
   },
   "file_extension": ".py",
   "mimetype": "text/x-python",
   "name": "python",
   "nbconvert_exporter": "python",
   "pygments_lexer": "ipython3",
   "version": "3.11.2"
  }
 },
 "nbformat": 4,
 "nbformat_minor": 2
}
